{
 "cells": [
  {
   "attachments": {},
   "cell_type": "markdown",
   "metadata": {},
   "source": [
    "# Data"
   ]
  },
  {
   "cell_type": "code",
   "execution_count": 2,
   "metadata": {},
   "outputs": [],
   "source": [
    "import numpy as np\n",
    "import pandas as pd\n",
    "import matplotlib.pyplot as plt\n",
    "%matplotlib inline\n",
    "plt.rcParams['axes.unicode_minus'] = False\n",
    "plt.rcParams['font.family']='NanumGothic'\n",
    "import seaborn as sns"
   ]
  },
  {
   "cell_type": "code",
   "execution_count": 4,
   "metadata": {},
   "outputs": [],
   "source": [
    "train = pd.read_csv('train.csv', index_col='ID')\n",
    "test = pd.read_csv('test.csv', index_col='ID')"
   ]
  },
  {
   "cell_type": "code",
   "execution_count": 17,
   "metadata": {},
   "outputs": [
    {
     "name": "stdout",
     "output_type": "stream",
     "text": [
      "<class 'pandas.core.frame.DataFrame'>\n",
      "Index: 25383 entries, TRAIN_00000 to TRAIN_25382\n",
      "Data columns (total 12 columns):\n",
      " #   Column            Non-Null Count  Dtype  \n",
      "---  ------            --------------  -----  \n",
      " 0   danceability      25383 non-null  float64\n",
      " 1   energy            25383 non-null  float64\n",
      " 2   key               25383 non-null  int64  \n",
      " 3   loudness          25383 non-null  float64\n",
      " 4   speechiness       25383 non-null  float64\n",
      " 5   acousticness      25383 non-null  float64\n",
      " 6   instrumentalness  25383 non-null  float64\n",
      " 7   liveness          25383 non-null  float64\n",
      " 8   valence           25383 non-null  float64\n",
      " 9   tempo             25383 non-null  float64\n",
      " 10  duration          25383 non-null  int64  \n",
      " 11  genre             25383 non-null  object \n",
      "dtypes: float64(9), int64(2), object(1)\n",
      "memory usage: 2.5+ MB\n"
     ]
    }
   ],
   "source": [
    "train.info()"
   ]
  },
  {
   "cell_type": "code",
   "execution_count": 8,
   "metadata": {},
   "outputs": [
    {
     "data": {
      "text/html": [
       "<div>\n",
       "<style scoped>\n",
       "    .dataframe tbody tr th:only-of-type {\n",
       "        vertical-align: middle;\n",
       "    }\n",
       "\n",
       "    .dataframe tbody tr th {\n",
       "        vertical-align: top;\n",
       "    }\n",
       "\n",
       "    .dataframe thead th {\n",
       "        text-align: right;\n",
       "    }\n",
       "</style>\n",
       "<table border=\"1\" class=\"dataframe\">\n",
       "  <thead>\n",
       "    <tr style=\"text-align: right;\">\n",
       "      <th></th>\n",
       "      <th>danceability</th>\n",
       "      <th>energy</th>\n",
       "      <th>key</th>\n",
       "      <th>loudness</th>\n",
       "      <th>speechiness</th>\n",
       "      <th>acousticness</th>\n",
       "      <th>instrumentalness</th>\n",
       "      <th>liveness</th>\n",
       "      <th>valence</th>\n",
       "      <th>tempo</th>\n",
       "      <th>duration</th>\n",
       "      <th>genre</th>\n",
       "    </tr>\n",
       "    <tr>\n",
       "      <th>ID</th>\n",
       "      <th></th>\n",
       "      <th></th>\n",
       "      <th></th>\n",
       "      <th></th>\n",
       "      <th></th>\n",
       "      <th></th>\n",
       "      <th></th>\n",
       "      <th></th>\n",
       "      <th></th>\n",
       "      <th></th>\n",
       "      <th></th>\n",
       "      <th></th>\n",
       "    </tr>\n",
       "  </thead>\n",
       "  <tbody>\n",
       "    <tr>\n",
       "      <th>TRAIN_00000</th>\n",
       "      <td>0.3341</td>\n",
       "      <td>0.9231</td>\n",
       "      <td>10</td>\n",
       "      <td>0.8540</td>\n",
       "      <td>0.3797</td>\n",
       "      <td>0.008</td>\n",
       "      <td>0.0002</td>\n",
       "      <td>0.7697</td>\n",
       "      <td>0.7902</td>\n",
       "      <td>0.5391</td>\n",
       "      <td>175</td>\n",
       "      <td>trap</td>\n",
       "    </tr>\n",
       "    <tr>\n",
       "      <th>TRAIN_00001</th>\n",
       "      <td>0.6344</td>\n",
       "      <td>0.5955</td>\n",
       "      <td>10</td>\n",
       "      <td>0.2826</td>\n",
       "      <td>0.1378</td>\n",
       "      <td>0.000</td>\n",
       "      <td>0.7137</td>\n",
       "      <td>0.1597</td>\n",
       "      <td>0.4162</td>\n",
       "      <td>0.3043</td>\n",
       "      <td>513</td>\n",
       "      <td>techno</td>\n",
       "    </tr>\n",
       "  </tbody>\n",
       "</table>\n",
       "</div>"
      ],
      "text/plain": [
       "             danceability  energy  key  loudness  speechiness  acousticness  \\\n",
       "ID                                                                            \n",
       "TRAIN_00000        0.3341  0.9231   10    0.8540       0.3797         0.008   \n",
       "TRAIN_00001        0.6344  0.5955   10    0.2826       0.1378         0.000   \n",
       "\n",
       "             instrumentalness  liveness  valence   tempo  duration   genre  \n",
       "ID                                                                          \n",
       "TRAIN_00000            0.0002    0.7697   0.7902  0.5391       175    trap  \n",
       "TRAIN_00001            0.7137    0.1597   0.4162  0.3043       513  techno  "
      ]
     },
     "execution_count": 8,
     "metadata": {},
     "output_type": "execute_result"
    }
   ],
   "source": [
    "train.head(2)"
   ]
  },
  {
   "cell_type": "code",
   "execution_count": 16,
   "metadata": {},
   "outputs": [
    {
     "name": "stdout",
     "output_type": "stream",
     "text": [
      "train\n"
     ]
    },
    {
     "data": {
      "text/html": [
       "<div>\n",
       "<style scoped>\n",
       "    .dataframe tbody tr th:only-of-type {\n",
       "        vertical-align: middle;\n",
       "    }\n",
       "\n",
       "    .dataframe tbody tr th {\n",
       "        vertical-align: top;\n",
       "    }\n",
       "\n",
       "    .dataframe thead th {\n",
       "        text-align: right;\n",
       "    }\n",
       "</style>\n",
       "<table border=\"1\" class=\"dataframe\">\n",
       "  <thead>\n",
       "    <tr style=\"text-align: right;\">\n",
       "      <th></th>\n",
       "      <th>danceability</th>\n",
       "      <th>energy</th>\n",
       "      <th>key</th>\n",
       "      <th>loudness</th>\n",
       "      <th>speechiness</th>\n",
       "      <th>acousticness</th>\n",
       "      <th>instrumentalness</th>\n",
       "      <th>liveness</th>\n",
       "      <th>valence</th>\n",
       "      <th>tempo</th>\n",
       "      <th>duration</th>\n",
       "    </tr>\n",
       "  </thead>\n",
       "  <tbody>\n",
       "    <tr>\n",
       "      <th>count</th>\n",
       "      <td>25383.000000</td>\n",
       "      <td>25383.000000</td>\n",
       "      <td>25383.000000</td>\n",
       "      <td>25383.000000</td>\n",
       "      <td>25383.000000</td>\n",
       "      <td>25383.000000</td>\n",
       "      <td>25383.000000</td>\n",
       "      <td>25383.000000</td>\n",
       "      <td>25383.000000</td>\n",
       "      <td>25383.000000</td>\n",
       "      <td>25383.000000</td>\n",
       "    </tr>\n",
       "    <tr>\n",
       "      <th>mean</th>\n",
       "      <td>0.544519</td>\n",
       "      <td>0.642106</td>\n",
       "      <td>5.368239</td>\n",
       "      <td>0.523904</td>\n",
       "      <td>0.271701</td>\n",
       "      <td>0.178736</td>\n",
       "      <td>0.309931</td>\n",
       "      <td>0.324461</td>\n",
       "      <td>0.403999</td>\n",
       "      <td>0.503558</td>\n",
       "      <td>253.697514</td>\n",
       "    </tr>\n",
       "    <tr>\n",
       "      <th>std</th>\n",
       "      <td>0.242362</td>\n",
       "      <td>0.275050</td>\n",
       "      <td>3.660011</td>\n",
       "      <td>0.209811</td>\n",
       "      <td>0.276586</td>\n",
       "      <td>0.272155</td>\n",
       "      <td>0.399725</td>\n",
       "      <td>0.254626</td>\n",
       "      <td>0.286148</td>\n",
       "      <td>0.222104</td>\n",
       "      <td>103.020340</td>\n",
       "    </tr>\n",
       "    <tr>\n",
       "      <th>min</th>\n",
       "      <td>0.000000</td>\n",
       "      <td>0.000000</td>\n",
       "      <td>0.000000</td>\n",
       "      <td>0.000000</td>\n",
       "      <td>0.001100</td>\n",
       "      <td>0.000000</td>\n",
       "      <td>0.000000</td>\n",
       "      <td>0.000000</td>\n",
       "      <td>0.000000</td>\n",
       "      <td>0.007300</td>\n",
       "      <td>28.000000</td>\n",
       "    </tr>\n",
       "    <tr>\n",
       "      <th>25%</th>\n",
       "      <td>0.340500</td>\n",
       "      <td>0.410000</td>\n",
       "      <td>1.000000</td>\n",
       "      <td>0.372900</td>\n",
       "      <td>0.062950</td>\n",
       "      <td>0.003700</td>\n",
       "      <td>0.000000</td>\n",
       "      <td>0.138100</td>\n",
       "      <td>0.148000</td>\n",
       "      <td>0.322350</td>\n",
       "      <td>182.000000</td>\n",
       "    </tr>\n",
       "    <tr>\n",
       "      <th>50%</th>\n",
       "      <td>0.553400</td>\n",
       "      <td>0.701300</td>\n",
       "      <td>6.000000</td>\n",
       "      <td>0.538300</td>\n",
       "      <td>0.129600</td>\n",
       "      <td>0.035800</td>\n",
       "      <td>0.006500</td>\n",
       "      <td>0.200700</td>\n",
       "      <td>0.361800</td>\n",
       "      <td>0.483500</td>\n",
       "      <td>227.000000</td>\n",
       "    </tr>\n",
       "    <tr>\n",
       "      <th>75%</th>\n",
       "      <td>0.759900</td>\n",
       "      <td>0.895700</td>\n",
       "      <td>9.000000</td>\n",
       "      <td>0.683600</td>\n",
       "      <td>0.450200</td>\n",
       "      <td>0.237500</td>\n",
       "      <td>0.814000</td>\n",
       "      <td>0.501500</td>\n",
       "      <td>0.640800</td>\n",
       "      <td>0.659350</td>\n",
       "      <td>304.000000</td>\n",
       "    </tr>\n",
       "    <tr>\n",
       "      <th>max</th>\n",
       "      <td>1.000000</td>\n",
       "      <td>1.000000</td>\n",
       "      <td>11.000000</td>\n",
       "      <td>0.999500</td>\n",
       "      <td>1.000000</td>\n",
       "      <td>0.999900</td>\n",
       "      <td>1.000000</td>\n",
       "      <td>1.000000</td>\n",
       "      <td>1.000000</td>\n",
       "      <td>1.000000</td>\n",
       "      <td>897.000000</td>\n",
       "    </tr>\n",
       "  </tbody>\n",
       "</table>\n",
       "</div>"
      ],
      "text/plain": [
       "       danceability        energy           key      loudness   speechiness  \\\n",
       "count  25383.000000  25383.000000  25383.000000  25383.000000  25383.000000   \n",
       "mean       0.544519      0.642106      5.368239      0.523904      0.271701   \n",
       "std        0.242362      0.275050      3.660011      0.209811      0.276586   \n",
       "min        0.000000      0.000000      0.000000      0.000000      0.001100   \n",
       "25%        0.340500      0.410000      1.000000      0.372900      0.062950   \n",
       "50%        0.553400      0.701300      6.000000      0.538300      0.129600   \n",
       "75%        0.759900      0.895700      9.000000      0.683600      0.450200   \n",
       "max        1.000000      1.000000     11.000000      0.999500      1.000000   \n",
       "\n",
       "       acousticness  instrumentalness      liveness       valence  \\\n",
       "count  25383.000000      25383.000000  25383.000000  25383.000000   \n",
       "mean       0.178736          0.309931      0.324461      0.403999   \n",
       "std        0.272155          0.399725      0.254626      0.286148   \n",
       "min        0.000000          0.000000      0.000000      0.000000   \n",
       "25%        0.003700          0.000000      0.138100      0.148000   \n",
       "50%        0.035800          0.006500      0.200700      0.361800   \n",
       "75%        0.237500          0.814000      0.501500      0.640800   \n",
       "max        0.999900          1.000000      1.000000      1.000000   \n",
       "\n",
       "              tempo      duration  \n",
       "count  25383.000000  25383.000000  \n",
       "mean       0.503558    253.697514  \n",
       "std        0.222104    103.020340  \n",
       "min        0.007300     28.000000  \n",
       "25%        0.322350    182.000000  \n",
       "50%        0.483500    227.000000  \n",
       "75%        0.659350    304.000000  \n",
       "max        1.000000    897.000000  "
      ]
     },
     "execution_count": 16,
     "metadata": {},
     "output_type": "execute_result"
    }
   ],
   "source": [
    "print(\"train\")\n",
    "pd.DataFrame(train.describe())"
   ]
  },
  {
   "cell_type": "code",
   "execution_count": 15,
   "metadata": {},
   "outputs": [
    {
     "name": "stdout",
     "output_type": "stream",
     "text": [
      "test\n"
     ]
    },
    {
     "data": {
      "text/html": [
       "<div>\n",
       "<style scoped>\n",
       "    .dataframe tbody tr th:only-of-type {\n",
       "        vertical-align: middle;\n",
       "    }\n",
       "\n",
       "    .dataframe tbody tr th {\n",
       "        vertical-align: top;\n",
       "    }\n",
       "\n",
       "    .dataframe thead th {\n",
       "        text-align: right;\n",
       "    }\n",
       "</style>\n",
       "<table border=\"1\" class=\"dataframe\">\n",
       "  <thead>\n",
       "    <tr style=\"text-align: right;\">\n",
       "      <th></th>\n",
       "      <th>danceability</th>\n",
       "      <th>energy</th>\n",
       "      <th>key</th>\n",
       "      <th>loudness</th>\n",
       "      <th>speechiness</th>\n",
       "      <th>acousticness</th>\n",
       "      <th>instrumentalness</th>\n",
       "      <th>liveness</th>\n",
       "      <th>valence</th>\n",
       "      <th>tempo</th>\n",
       "      <th>duration</th>\n",
       "    </tr>\n",
       "  </thead>\n",
       "  <tbody>\n",
       "    <tr>\n",
       "      <th>count</th>\n",
       "      <td>16922.000000</td>\n",
       "      <td>16922.000000</td>\n",
       "      <td>16922.000000</td>\n",
       "      <td>16922.000000</td>\n",
       "      <td>16922.000000</td>\n",
       "      <td>16922.000000</td>\n",
       "      <td>16922.000000</td>\n",
       "      <td>16922.000000</td>\n",
       "      <td>16922.000000</td>\n",
       "      <td>16922.000000</td>\n",
       "      <td>16922.000000</td>\n",
       "    </tr>\n",
       "    <tr>\n",
       "      <th>mean</th>\n",
       "      <td>0.544880</td>\n",
       "      <td>0.641234</td>\n",
       "      <td>5.373242</td>\n",
       "      <td>0.525587</td>\n",
       "      <td>0.274843</td>\n",
       "      <td>0.182449</td>\n",
       "      <td>0.305384</td>\n",
       "      <td>0.322856</td>\n",
       "      <td>0.407407</td>\n",
       "      <td>0.507053</td>\n",
       "      <td>252.961352</td>\n",
       "    </tr>\n",
       "    <tr>\n",
       "      <th>std</th>\n",
       "      <td>0.242931</td>\n",
       "      <td>0.276760</td>\n",
       "      <td>3.675434</td>\n",
       "      <td>0.211230</td>\n",
       "      <td>0.277283</td>\n",
       "      <td>0.275779</td>\n",
       "      <td>0.398081</td>\n",
       "      <td>0.254359</td>\n",
       "      <td>0.285428</td>\n",
       "      <td>0.222750</td>\n",
       "      <td>102.863976</td>\n",
       "    </tr>\n",
       "    <tr>\n",
       "      <th>min</th>\n",
       "      <td>0.000000</td>\n",
       "      <td>0.000000</td>\n",
       "      <td>0.000000</td>\n",
       "      <td>0.000000</td>\n",
       "      <td>0.000000</td>\n",
       "      <td>0.000000</td>\n",
       "      <td>0.000000</td>\n",
       "      <td>0.001900</td>\n",
       "      <td>0.000800</td>\n",
       "      <td>0.000000</td>\n",
       "      <td>41.000000</td>\n",
       "    </tr>\n",
       "    <tr>\n",
       "      <th>25%</th>\n",
       "      <td>0.342100</td>\n",
       "      <td>0.406800</td>\n",
       "      <td>1.000000</td>\n",
       "      <td>0.374300</td>\n",
       "      <td>0.063600</td>\n",
       "      <td>0.003700</td>\n",
       "      <td>0.000000</td>\n",
       "      <td>0.138400</td>\n",
       "      <td>0.151600</td>\n",
       "      <td>0.323200</td>\n",
       "      <td>182.000000</td>\n",
       "    </tr>\n",
       "    <tr>\n",
       "      <th>50%</th>\n",
       "      <td>0.549700</td>\n",
       "      <td>0.701300</td>\n",
       "      <td>6.000000</td>\n",
       "      <td>0.541400</td>\n",
       "      <td>0.132500</td>\n",
       "      <td>0.035400</td>\n",
       "      <td>0.005900</td>\n",
       "      <td>0.198900</td>\n",
       "      <td>0.367500</td>\n",
       "      <td>0.483900</td>\n",
       "      <td>227.000000</td>\n",
       "    </tr>\n",
       "    <tr>\n",
       "      <th>75%</th>\n",
       "      <td>0.761400</td>\n",
       "      <td>0.898600</td>\n",
       "      <td>9.000000</td>\n",
       "      <td>0.687775</td>\n",
       "      <td>0.458200</td>\n",
       "      <td>0.246800</td>\n",
       "      <td>0.804300</td>\n",
       "      <td>0.494300</td>\n",
       "      <td>0.644600</td>\n",
       "      <td>0.670500</td>\n",
       "      <td>303.000000</td>\n",
       "    </tr>\n",
       "    <tr>\n",
       "      <th>max</th>\n",
       "      <td>0.998100</td>\n",
       "      <td>0.998800</td>\n",
       "      <td>11.000000</td>\n",
       "      <td>1.000000</td>\n",
       "      <td>1.000000</td>\n",
       "      <td>1.000000</td>\n",
       "      <td>1.000000</td>\n",
       "      <td>0.999400</td>\n",
       "      <td>0.997300</td>\n",
       "      <td>0.999900</td>\n",
       "      <td>916.000000</td>\n",
       "    </tr>\n",
       "  </tbody>\n",
       "</table>\n",
       "</div>"
      ],
      "text/plain": [
       "       danceability        energy           key      loudness   speechiness  \\\n",
       "count  16922.000000  16922.000000  16922.000000  16922.000000  16922.000000   \n",
       "mean       0.544880      0.641234      5.373242      0.525587      0.274843   \n",
       "std        0.242931      0.276760      3.675434      0.211230      0.277283   \n",
       "min        0.000000      0.000000      0.000000      0.000000      0.000000   \n",
       "25%        0.342100      0.406800      1.000000      0.374300      0.063600   \n",
       "50%        0.549700      0.701300      6.000000      0.541400      0.132500   \n",
       "75%        0.761400      0.898600      9.000000      0.687775      0.458200   \n",
       "max        0.998100      0.998800     11.000000      1.000000      1.000000   \n",
       "\n",
       "       acousticness  instrumentalness      liveness       valence  \\\n",
       "count  16922.000000      16922.000000  16922.000000  16922.000000   \n",
       "mean       0.182449          0.305384      0.322856      0.407407   \n",
       "std        0.275779          0.398081      0.254359      0.285428   \n",
       "min        0.000000          0.000000      0.001900      0.000800   \n",
       "25%        0.003700          0.000000      0.138400      0.151600   \n",
       "50%        0.035400          0.005900      0.198900      0.367500   \n",
       "75%        0.246800          0.804300      0.494300      0.644600   \n",
       "max        1.000000          1.000000      0.999400      0.997300   \n",
       "\n",
       "              tempo      duration  \n",
       "count  16922.000000  16922.000000  \n",
       "mean       0.507053    252.961352  \n",
       "std        0.222750    102.863976  \n",
       "min        0.000000     41.000000  \n",
       "25%        0.323200    182.000000  \n",
       "50%        0.483900    227.000000  \n",
       "75%        0.670500    303.000000  \n",
       "max        0.999900    916.000000  "
      ]
     },
     "execution_count": 15,
     "metadata": {},
     "output_type": "execute_result"
    }
   ],
   "source": [
    "print(\"test\")\n",
    "pd.DataFrame(test.describe())"
   ]
  },
  {
   "cell_type": "code",
   "execution_count": 22,
   "metadata": {},
   "outputs": [
    {
     "data": {
      "text/plain": [
       "Underground Rap    3482\n",
       "Dark Trap          2696\n",
       "trance             1837\n",
       "Hiphop             1822\n",
       "trap               1814\n",
       "techhouse          1809\n",
       "techno             1767\n",
       "psytrance          1767\n",
       "hardstyle          1755\n",
       "dnb                1749\n",
       "RnB                1308\n",
       "Trap Metal         1188\n",
       "Rap                1120\n",
       "Emo                 999\n",
       "Pop                 270\n",
       "Name: genre, dtype: int64"
      ]
     },
     "execution_count": 22,
     "metadata": {},
     "output_type": "execute_result"
    }
   ],
   "source": [
    "train['genre'].value_counts()"
   ]
  },
  {
   "cell_type": "code",
   "execution_count": 33,
   "metadata": {},
   "outputs": [
    {
     "data": {
      "image/png": "[encoded data removed]",
      "text/plain": [
       "<Figure size 1000x400 with 1 Axes>"
      ]
     },
     "metadata": {},
     "output_type": "display_data"
    }
   ],
   "source": [
    "plt.figure(figsize=(10,4))\n",
    "sns.countplot(data=train, x='genre')\n",
    "s=plt.xticks(rotation=90)"
   ]
  },
  {
   "cell_type": "code",
   "execution_count": null,
   "metadata": {},
   "outputs": [],
   "source": [
    "from sklearn.preprocessing import LabelEncoder\n",
    "labeling = LabelEncoder()\n",
    "train['genre']=labeling.fit_transform(train['genre'])"
   ]
  },
  {
   "cell_type": "code",
   "execution_count": 42,
   "metadata": {},
   "outputs": [
    {
     "name": "stderr",
     "output_type": "stream",
     "text": [
      "C:\\Users\\junel\\AppData\\Local\\Temp\\ipykernel_5168\\3293782763.py:2: DeprecationWarning: `np.bool` is a deprecated alias for the builtin `bool`. To silence this warning, use `bool` by itself. Doing this will not modify any behavior and is safe. If you specifically wanted the numpy scalar type, use `np.bool_` here.\n",
      "Deprecated in NumPy 1.20; for more details and guidance: https://numpy.org/devdocs/release/1.20.0-notes.html#deprecations\n",
      "  mask = np.zeros_like(corr, dtype=np.bool)\n"
     ]
    },
    {
     "data": {
      "image/png": "[encoded data removed]",
      "text/plain": [
       "<Figure size 800x800 with 2 Axes>"
      ]
     },
     "metadata": {},
     "output_type": "display_data"
    }
   ],
   "source": [
    "corr = train.corr()\n",
    "mask = np.zeros_like(corr, dtype=np.bool)\n",
    "mask[np.triu_indices_from(mask)] = True\n",
    "\n",
    "f, ax = plt.subplots(figsize=(8, 8))\n",
    "cmap = sns.diverging_palette(220, 10, as_cmap=True)\n",
    "sns.heatmap(corr, mask=mask, cmap=cmap, center=0,\n",
    "            square=True, linewidths=.5, cbar_kws={\"shrink\": .5})\n",
    "plt.show()"
   ]
  },
  {
   "attachments": {},
   "cell_type": "markdown",
   "metadata": {},
   "source": [
    "# Model"
   ]
  },
  {
   "cell_type": "code",
   "execution_count": 76,
   "metadata": {},
   "outputs": [],
   "source": [
    "X = train.iloc[:,:-1]\n",
    "y = train['genre']"
   ]
  },
  {
   "cell_type": "code",
   "execution_count": 98,
   "metadata": {},
   "outputs": [],
   "source": [
    "from sklearn.model_selection import StratifiedKFold\n",
    "from sklearn.preprocessing import StandardScaler\n",
    "from sklearn.multiclass import OneVsRestClassifier\n",
    "from sklearn.gaussian_process import GaussianProcessClassifier\n",
    "from sklearn.gaussian_process.kernels import RBF\n",
    "from sklearn.svm import SVC\n",
    "from sklearn.neighbors import KNeighborsClassifier, RadiusNeighborsClassifier\n",
    "from sklearn.naive_bayes import GaussianNB\n",
    "from sklearn.neural_network import MLPClassifier\n",
    "from sklearn.ensemble import RandomForestClassifier, ExtraTreesClassifier, GradientBoostingClassifier, HistGradientBoostingClassifier \n",
    "from xgboost import XGBClassifier\n",
    "from lightgbm import LGBMClassifier\n",
    "from sklearn.metrics import f1_score"
   ]
  },
  {
   "cell_type": "code",
   "execution_count": 113,
   "metadata": {},
   "outputs": [],
   "source": [
    "classifier = [\n",
    "    RandomForestClassifier(n_estimators=1000, max_features=None, class_weight='balanced_subsample', n_jobs=-1, random_state=7),#\n",
    "    ExtraTreesClassifier(n_estimators=1000, max_features=None, class_weight='balanced_subsample', n_jobs=-1, random_state=7),#\n",
    "    HistGradientBoostingClassifier(learning_rate=0.005, l2_regularization=0.5, class_weight='balanced_subsample', scoring='f1_macro', random_state=7),#\n",
    "    XGBClassifier(n_estimators=1000, eval_metric='mlogloss', use_label_encoder=False, learning_rate=0.005, seed=7),\n",
    "    LGBMClassifier(n_estimators=2000, learning_rate=0.005, class_weight='balanced_subsample', n_jobs=-1, random_state=7),#\n",
    "    GradientBoostingClassifier(n_estimators=1000, max_depth = 3, learning_rate=0.005, random_state=7)\n",
    "]"
   ]
  },
  {
   "cell_type": "code",
   "execution_count": 114,
   "metadata": {},
   "outputs": [
    {
     "name": "stdout",
     "output_type": "stream",
     "text": [
      "RandomForestClassifier\n",
      "f1_score: **  0.6266248519704102  ** [0.6368266378475202, 0.6198719884025234, 0.6312315830393765, 0.6160652973048796, 0.6291287532577511]\n",
      "ExtraTreesClassifier\n",
      "f1_score: **  0.6294758955827995  ** [0.6402606830660965, 0.6198284306846911, 0.6354595313140299, 0.6162128553213837, 0.6356179775277961]\n",
      "HistGradientBoostingClassifier\n",
      "f1_score: **  0.6098401700643231  ** [0.6136371847447116, 0.6044725434347035, 0.6180351352432807, 0.6058956463392906, 0.6071603405596292]\n",
      "XGBClassifier\n",
      "f1_score: **  0.6352747696601011  ** [0.6386110492664976, 0.6372661792825801, 0.6427105761861106, 0.624469417933557, 0.6333166256317605]\n",
      "LGBMClassifier\n",
      "f1_score: **  0.6443951643565823  ** [0.6466861684577834, 0.6452537938374509, 0.6471646168717211, 0.6334416199216216, 0.6494296226943342]\n",
      "GradientBoostingClassifier\n",
      "f1_score: **  0.633036568290948  ** [0.6384425804078604, 0.633524645553352, 0.6293228961946049, 0.6273236169415715, 0.6365691023573514]\n"
     ]
    }
   ],
   "source": [
    "sc = StandardScaler()\n",
    "model_scores=[]\n",
    "for model in classifier:\n",
    "    scores=[]\n",
    "    for i , (train_idx, val_idx) in enumerate(StratifiedKFold(shuffle=False).split(X, y)):\n",
    "        #print(i+1,\"Fold\")\n",
    "        X_train, X_val = X.iloc[train_idx], X.iloc[val_idx]\n",
    "        y_train, y_val = y.iloc[train_idx], y.iloc[val_idx]\n",
    "\n",
    "        sc_X_train=sc.fit_transform(X_train)\n",
    "        sc_X_val=sc.transform(X_val)\n",
    "\n",
    "        model.fit(sc_X_train, y_train)\n",
    "        score = f1_score(y_val, model.predict(sc_X_val), average='macro')\n",
    "        scores.append(score)\n",
    "    print(type(model).__name__)\n",
    "    print(\"f1_score: \", sum(scores)/5, '      ', scores)\n",
    "    model_scores.append(scores)"
   ]
  },
  {
   "cell_type": "code",
   "execution_count": 115,
   "metadata": {},
   "outputs": [],
   "source": [
    "sc_test=sc.transform(test)\n",
    "pred = classifier[4].predict(sc_test)\n",
    "submit=pd.read_csv('sample_submission.csv')\n",
    "answer=labeling.inverse_transform(pred)\n",
    "submit['genre']=answer\n",
    "submit.to_csv('LGBMClassifier.csv', index=False)"
   ]
  },
  {
   "cell_type": "code",
   "execution_count": 136,
   "metadata": {},
   "outputs": [
    {
     "data": {
      "image/png": "[encoded data removed]",
      "text/plain": [
       "<Figure size 2000x400 with 5 Axes>"
      ]
     },
     "metadata": {},
     "output_type": "display_data"
    }
   ],
   "source": [
    "fig, axs = plt.subplots(1,5,figsize=(20,4))\n",
    "col=0\n",
    "for model in classifier: \n",
    "    if type(model).__name__ == 'HistGradientBoostingClassifier': \n",
    "        continue\n",
    "    feat_impt=model.feature_importances_\n",
    "    graph_data=pd.DataFrame()\n",
    "\n",
    "    graph_data['feature']=train.columns[:-1].values\n",
    "    graph_data['importance']=feat_impt\n",
    "    graph_data_top=graph_data.nlargest(30,'importance')\n",
    "\n",
    "    g=sns.barplot(y='feature',x='importance',data=graph_data_top,orient='h', ax=axs[col])\n",
    "    col+=1\n",
    "    g.set_ylabel('Features',fontsize=12)\n",
    "    g.set_xlabel('Relative Importance')\n",
    "    g.set_title(type(model).__name__ )\n",
    "    g.tick_params(labelsize=8)"
   ]
  },
  {
   "cell_type": "code",
   "execution_count": 120,
   "metadata": {},
   "outputs": [
    {
     "name": "stdout",
     "output_type": "stream",
     "text": [
      "f1_score:  0.6434451797935778        [0.6678616802844952, 0.6355453463725392, 0.6268257917267712, 0.6504239782267324, 0.6365691023573514]\n"
     ]
    }
   ],
   "source": [
    "from sklearn.ensemble import VotingClassifier\n",
    "sc = StandardScaler()\n",
    "esemble_scores=[]\n",
    "for i , (train_idx, val_idx) in enumerate(StratifiedKFold(shuffle=False).split(X, y)):\n",
    "    #print(i+1,\"Fold\")\n",
    "    X_train, X_val = X.iloc[train_idx], X.iloc[val_idx]\n",
    "    y_train, y_val = y.iloc[train_idx], y.iloc[val_idx]\n",
    "\n",
    "    sc_X_train=sc.fit_transform(X_train)\n",
    "    sc_X_val=sc.transform(X_val)\n",
    "\n",
    "    voting_ensemble = VotingClassifier(estimators=[(type(model).__name__, model) for model in classifier],\n",
    "                                voting = 'soft')\n",
    "    voting_ensemble.fit(sc_X_train, y_train)\n",
    "    score = f1_score(y_val, model.predict(sc_X_val), average='macro')\n",
    "    esemble_scores.append(score)\n",
    "\n",
    "print(\"f1_score: \", sum(esemble_scores)/5, '      ', esemble_scores)"
   ]
  },
  {
   "cell_type": "code",
   "execution_count": 121,
   "metadata": {},
   "outputs": [],
   "source": [
    "sc_test=sc.transform(test)\n",
    "pred = voting_ensemble.predict(sc_test)\n",
    "submit=pd.read_csv('sample_submission.csv')\n",
    "answer=labeling.inverse_transform(pred)\n",
    "submit['genre']=answer\n",
    "submit.to_csv('voting.csv', index=False)"
   ]
  },
  {
   "cell_type": "code",
   "execution_count": 122,
   "metadata": {},
   "outputs": [
    {
     "name": "stdout",
     "output_type": "stream",
     "text": [
      "f1_score:  0.6434451797935778        [0.6678616802844952, 0.6355453463725392, 0.6268257917267712, 0.6504239782267324, 0.6365691023573514]\n"
     ]
    }
   ],
   "source": [
    "from sklearn.ensemble import VotingClassifier\n",
    "sc = StandardScaler()\n",
    "esemble_scores=[]\n",
    "for i , (train_idx, val_idx) in enumerate(StratifiedKFold(shuffle=False).split(X, y)):\n",
    "    #print(i+1,\"Fold\")\n",
    "    X_train, X_val = X.iloc[train_idx], X.iloc[val_idx]\n",
    "    y_train, y_val = y.iloc[train_idx], y.iloc[val_idx]\n",
    "\n",
    "    sc_X_train=sc.fit_transform(X_train)\n",
    "    sc_X_val=sc.transform(X_val)\n",
    "\n",
    "    voting_ensemble = VotingClassifier(estimators=[(type(model).__name__, model) for model in classifier],\n",
    "                                voting = 'hard')\n",
    "    voting_ensemble.fit(sc_X_train, y_train)\n",
    "    score = f1_score(y_val, model.predict(sc_X_val), average='macro')\n",
    "    esemble_scores.append(score)\n",
    "\n",
    "print(\"f1_score: \", sum(esemble_scores)/5, '      ', esemble_scores)"
   ]
  },
  {
   "cell_type": "code",
   "execution_count": 123,
   "metadata": {},
   "outputs": [],
   "source": [
    "sc_test=sc.transform(test)\n",
    "pred = voting_ensemble.predict(sc_test)\n",
    "submit=pd.read_csv('sample_submission.csv')\n",
    "answer=labeling.inverse_transform(pred)\n",
    "submit['genre']=answer\n",
    "submit.to_csv('hardvoting.csv', index=False)"
   ]
  }
 ],
 "metadata": {
  "kernelspec": {
   "display_name": "base",
   "language": "python",
   "name": "python3"
  },
  "language_info": {
   "codemirror_mode": {
    "name": "ipython",
    "version": 3
   },
   "file_extension": ".py",
   "mimetype": "text/x-python",
   "name": "python",
   "nbconvert_exporter": "python",
   "pygments_lexer": "ipython3",
   "version": "3.8.8"
  },
  "orig_nbformat": 4,
  "vscode": {
   "interpreter": {
    "hash": "e4cce46d6be9934fbd27f9ca0432556941ea5bdf741d4f4d64c6cd7f8dfa8fba"
   }
  }
 },
 "nbformat": 4,
 "nbformat_minor": 2
}
